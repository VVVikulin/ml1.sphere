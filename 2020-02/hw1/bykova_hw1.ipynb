{
 "cells": [
  {
   "cell_type": "markdown",
   "metadata": {},
   "source": [
    "**Общая информация**\n",
    "\n",
    "**Срок сдачи:** 16 марта 2020, 08:30 \n",
    "\n",
    "**Штраф за опоздание:** по 1 баллу за 24 часа задержки. Через 5 дней домашнее задание сгорает.\n",
    "\n",
    "При отправлении ДЗ указывайте фамилию в названии файла\n",
    "Присылать ДЗ необходимо в виде ссылки на свой github репозиторий на почту ml1.sphere@mail.ru с указанием темы в следующем формате:\n",
    "\n",
    "[ML0220, Задание 1] Фамилия Имя.\n",
    "\n",
    "Используйте данный Ipython Notebook при оформлении домашнего задания."
   ]
  },
  {
   "cell_type": "markdown",
   "metadata": {},
   "source": [
    "\n",
    "**Штрафные баллы:**\n",
    "\n",
    "1. Отсутствие фамилии в имени скрипта (скрипт должен называться по аналогии со stroykova_hw1.ipynb) -0.5 баллов\n",
    "2. Все строчки должны быть выполнены. Нужно, чтобы output команды можно было увидеть уже в git'е. В противном случае -0.5 баллов\n"
   ]
  },
  {
   "cell_type": "code",
   "execution_count": 1,
   "metadata": {},
   "outputs": [],
   "source": [
    "import numpy as np\n",
    "import matplotlib.pyplot as plt\n",
    "import pandas as pd\n",
    "\n",
    "import seaborn as sns\n",
    "from sklearn import datasets\n",
    "from sklearn.base import BaseEstimator\n",
    "from sklearn.datasets import fetch_mldata, fetch_20newsgroups\n",
    "\n",
    "from sklearn.model_selection import train_test_split, KFold, StratifiedKFold\n",
    "from sklearn.neighbors import KNeighborsClassifier, KDTree\n",
    "from sklearn.metrics import accuracy_score, pairwise_distances_chunked\n",
    "from scipy.spatial.distance import cdist, squareform\n",
    "from sklearn.feature_extraction.text import CountVectorizer, TfidfVectorizer\n",
    "from sklearn.model_selection import cross_val_score\n",
    "from sklearn.utils import check_array\n",
    "from scipy import sparse\n",
    "from functools import partial"
   ]
  },
  {
   "cell_type": "markdown",
   "metadata": {},
   "source": [
    "##### Задание 1 (1 балл)\n",
    "Реализовать KNN в классе MyKNeighborsClassifier (обязательное условие: точность не ниже sklearn реализации)\n",
    "Разберитесь самостоятельно, какая мера расстояния используется в KNeighborsClassifier дефолтно и реализуйте свой алгоритм именно с этой мерой. \n",
    "Для подсчета расстояний можно использовать функции [отсюда](https://docs.scipy.org/doc/scipy/reference/spatial.distance.html)"
   ]
  },
  {
   "cell_type": "code",
   "execution_count": 2,
   "metadata": {},
   "outputs": [],
   "source": [
    "class MyKNeighborsClassifier(BaseEstimator):\n",
    "    \n",
    "    def __init__(self, n_neighbors, algorithm, metric = 'euclidean'):\n",
    "        self.n_neighbors = n_neighbors\n",
    "        self.X_train = None\n",
    "        self.y_train = None\n",
    "        self.alg = algorithm\n",
    "        self.metric = metric\n",
    "    def fit(self, X, y):\n",
    "        if sparse.issparse(X):\n",
    "            self.X_train = check_array(X, accept_sparse='csr')\n",
    "        else:\n",
    "            self.X_train = X\n",
    "        self.y_train = y\n",
    "        if self.alg == 'kd_tree':\n",
    "            self.tree = KDTree(self.X_train)\n",
    "    def _kneighbors_reduce_func(self, dist, start, n_neighbors):\n",
    "        #цитаты классиков\n",
    "        sample_range = np.arange(dist.shape[0])[:, None]\n",
    "        neigh_ind = np.argpartition(dist, n_neighbors - 1, axis=1)\n",
    "        neigh_ind = neigh_ind[:, :n_neighbors]\n",
    "        neigh_ind = neigh_ind[sample_range, np.argsort(dist[sample_range, neigh_ind])]\n",
    "        return neigh_ind\n",
    "    def predict(self, X):\n",
    "        k = self.n_neighbors\n",
    "        if self.alg == 'brute':\n",
    "            if sparse.issparse(X):\n",
    "                X = check_array(X, accept_sparse='csr')\n",
    "                reduce_func = partial(self._kneighbors_reduce_func, n_neighbors=k)\n",
    "                chunked_results = list(pairwise_distances_chunked(X, self.X_train, \n",
    "                                                                  reduce_func=reduce_func, \n",
    "                                                                  metric = self.metric))\n",
    "                results = np.vstack(chunked_results)\n",
    "                index_of_k = results\n",
    "            else:\n",
    "                dist = cdist(X, self.X_train, 'minkowski', p=2)\n",
    "                index_of_k = np.argpartition(dist, k, axis = 1)[:, :k]\n",
    "        elif self.alg == 'kd_tree':\n",
    "            index_of_k = self.tree.query(X, k, return_distance=False)\n",
    "        res = [-1] * X.shape[0]\n",
    "        for i in range(X.shape[0]):\n",
    "            counts = np.bincount(self.y_train[index_of_k[i]])\n",
    "            res[i] = np.argmax(counts)\n",
    "        return np.asarray(res)\n",
    "            "
   ]
  },
  {
   "cell_type": "markdown",
   "metadata": {},
   "source": [
    "**IRIS**\n",
    "\n",
    "В библиотеке scikit-learn есть несколько датасетов из коробки. Один из них [Ирисы Фишера](https://ru.wikipedia.org/wiki/%D0%98%D1%80%D0%B8%D1%81%D1%8B_%D0%A4%D0%B8%D1%88%D0%B5%D1%80%D0%B0)"
   ]
  },
  {
   "cell_type": "code",
   "execution_count": 3,
   "metadata": {},
   "outputs": [],
   "source": [
    "iris = datasets.load_iris()"
   ]
  },
  {
   "cell_type": "code",
   "execution_count": 4,
   "metadata": {},
   "outputs": [],
   "source": [
    "X_train, X_test, y_train, y_test = train_test_split(iris.data, iris.target, test_size=0.1, stratify=iris.target)"
   ]
  },
  {
   "cell_type": "code",
   "execution_count": null,
   "metadata": {},
   "outputs": [],
   "source": []
  },
  {
   "cell_type": "code",
   "execution_count": 5,
   "metadata": {},
   "outputs": [],
   "source": [
    "clf = KNeighborsClassifier(n_neighbors=2, algorithm='brute')\n",
    "my_clf = MyKNeighborsClassifier(n_neighbors=2, algorithm='brute')"
   ]
  },
  {
   "cell_type": "code",
   "execution_count": 6,
   "metadata": {},
   "outputs": [],
   "source": [
    "clf.fit(X_train, y_train)\n",
    "my_clf.fit(X_train, y_train)"
   ]
  },
  {
   "cell_type": "code",
   "execution_count": 7,
   "metadata": {},
   "outputs": [],
   "source": [
    "sklearn_pred = clf.predict(X_test)\n",
    "my_clf_pred = my_clf.predict(X_test)\n",
    "assert abs( accuracy_score(y_test, my_clf_pred) -  accuracy_score(y_test, sklearn_pred ) )<0.005, \"Score must be simillar\""
   ]
  },
  {
   "cell_type": "markdown",
   "metadata": {},
   "source": [
    "**Задание 2 (0.5 балла)**\n",
    "\n",
    "Давайте попробуем добиться скорости работы на fit, predict сравнимой со sklearn для iris. Допускается замедление не более чем в 2 раза. \n",
    "Для этого используем numpy. "
   ]
  },
  {
   "cell_type": "code",
   "execution_count": 8,
   "metadata": {},
   "outputs": [
    {
     "name": "stdout",
     "output_type": "stream",
     "text": [
      "Wall time: 0 ns\n"
     ]
    },
    {
     "data": {
      "text/plain": [
       "KNeighborsClassifier(algorithm='brute', leaf_size=30, metric='minkowski',\n",
       "                     metric_params=None, n_jobs=None, n_neighbors=2, p=2,\n",
       "                     weights='uniform')"
      ]
     },
     "execution_count": 8,
     "metadata": {},
     "output_type": "execute_result"
    }
   ],
   "source": [
    "%time clf.fit(X_train, y_train)"
   ]
  },
  {
   "cell_type": "code",
   "execution_count": 9,
   "metadata": {},
   "outputs": [
    {
     "name": "stdout",
     "output_type": "stream",
     "text": [
      "Wall time: 0 ns\n"
     ]
    }
   ],
   "source": [
    "%time my_clf.fit(X_train, y_train)"
   ]
  },
  {
   "cell_type": "code",
   "execution_count": 10,
   "metadata": {},
   "outputs": [
    {
     "name": "stdout",
     "output_type": "stream",
     "text": [
      "Wall time: 5.83 ms\n"
     ]
    },
    {
     "data": {
      "text/plain": [
       "array([2, 0, 2, 2, 2, 0, 1, 0, 0, 2, 2, 1, 1, 0, 1])"
      ]
     },
     "execution_count": 10,
     "metadata": {},
     "output_type": "execute_result"
    }
   ],
   "source": [
    "%time clf.predict(X_test)"
   ]
  },
  {
   "cell_type": "code",
   "execution_count": 11,
   "metadata": {},
   "outputs": [
    {
     "name": "stdout",
     "output_type": "stream",
     "text": [
      "Wall time: 1.41 ms\n"
     ]
    },
    {
     "data": {
      "text/plain": [
       "array([2, 0, 2, 2, 2, 0, 1, 0, 0, 2, 2, 1, 1, 0, 1], dtype=int64)"
      ]
     },
     "execution_count": 11,
     "metadata": {},
     "output_type": "execute_result"
    }
   ],
   "source": [
    "%time my_clf.predict(X_test)"
   ]
  },
  {
   "cell_type": "markdown",
   "metadata": {},
   "source": [
    "###### Задание 3 (1 балл)\n",
    "Добавьте algorithm='kd_tree' в реализацию KNN (использовать KDTree из sklearn.neighbors). Необходимо добиться скорости работы на fit,  predict сравнимой со sklearn для iris. Допускается замедление не более чем в 2 раза. \n",
    "Для этого используем numpy. Точность не должна уступать значению KNN из sklearn. "
   ]
  },
  {
   "cell_type": "code",
   "execution_count": 12,
   "metadata": {},
   "outputs": [],
   "source": [
    "clf = KNeighborsClassifier(n_neighbors=2, algorithm='kd_tree')\n",
    "my_clf = MyKNeighborsClassifier(n_neighbors=2, algorithm='kd_tree')"
   ]
  },
  {
   "cell_type": "code",
   "execution_count": 13,
   "metadata": {},
   "outputs": [],
   "source": [
    "X_train, X_test, y_train, y_test = train_test_split(iris.data, iris.target, test_size=0.1, stratify=iris.target)"
   ]
  },
  {
   "cell_type": "code",
   "execution_count": 14,
   "metadata": {},
   "outputs": [
    {
     "name": "stdout",
     "output_type": "stream",
     "text": [
      "Wall time: 0 ns\n"
     ]
    },
    {
     "data": {
      "text/plain": [
       "KNeighborsClassifier(algorithm='kd_tree', leaf_size=30, metric='minkowski',\n",
       "                     metric_params=None, n_jobs=None, n_neighbors=2, p=2,\n",
       "                     weights='uniform')"
      ]
     },
     "execution_count": 14,
     "metadata": {},
     "output_type": "execute_result"
    }
   ],
   "source": [
    "%time clf.fit(X_train, y_train)"
   ]
  },
  {
   "cell_type": "code",
   "execution_count": 15,
   "metadata": {},
   "outputs": [
    {
     "name": "stdout",
     "output_type": "stream",
     "text": [
      "Wall time: 0 ns\n"
     ]
    }
   ],
   "source": [
    "%time my_clf.fit(X_train, y_train)"
   ]
  },
  {
   "cell_type": "code",
   "execution_count": 16,
   "metadata": {},
   "outputs": [
    {
     "name": "stdout",
     "output_type": "stream",
     "text": [
      "Wall time: 990 µs\n"
     ]
    },
    {
     "data": {
      "text/plain": [
       "array([0, 2, 1, 2, 0, 2, 0, 2, 1, 2, 1, 1, 0, 1, 0])"
      ]
     },
     "execution_count": 16,
     "metadata": {},
     "output_type": "execute_result"
    }
   ],
   "source": [
    "%time clf.predict(X_test)"
   ]
  },
  {
   "cell_type": "code",
   "execution_count": 17,
   "metadata": {},
   "outputs": [
    {
     "name": "stdout",
     "output_type": "stream",
     "text": [
      "Wall time: 998 µs\n"
     ]
    },
    {
     "data": {
      "text/plain": [
       "array([0, 2, 1, 2, 0, 2, 0, 2, 1, 2, 1, 1, 0, 1, 0], dtype=int64)"
      ]
     },
     "execution_count": 17,
     "metadata": {},
     "output_type": "execute_result"
    }
   ],
   "source": [
    "%time my_clf.predict(X_test)"
   ]
  },
  {
   "cell_type": "code",
   "execution_count": 18,
   "metadata": {},
   "outputs": [],
   "source": [
    "sklearn_pred = clf.predict(X_test)\n",
    "my_clf_pred = my_clf.predict(X_test)\n",
    "assert abs( accuracy_score(y_test, my_clf_pred) -  accuracy_score(y_test, sklearn_pred ) )<0.005, \"Score must be simillar\""
   ]
  },
  {
   "cell_type": "markdown",
   "metadata": {},
   "source": [
    "**Задание 4 (2.5 балла)**\n",
    "\n",
    "Рассмотрим новый датасет 20 newsgroups"
   ]
  },
  {
   "cell_type": "code",
   "execution_count": 19,
   "metadata": {},
   "outputs": [],
   "source": [
    "newsgroups = fetch_20newsgroups(subset='train',remove=['headers','footers', 'quotes'])"
   ]
  },
  {
   "cell_type": "code",
   "execution_count": 20,
   "metadata": {},
   "outputs": [],
   "source": [
    "data = newsgroups['data']\n",
    "target = newsgroups['target']"
   ]
  },
  {
   "cell_type": "code",
   "execution_count": 21,
   "metadata": {},
   "outputs": [
    {
     "data": {
      "text/plain": [
       "11314"
      ]
     },
     "execution_count": 21,
     "metadata": {},
     "output_type": "execute_result"
    }
   ],
   "source": [
    "len(data)"
   ]
  },
  {
   "cell_type": "markdown",
   "metadata": {},
   "source": [
    "Преобразуйте текстовые данные из data с помощью [CountVectorizer](https://scikit-learn.org/stable/modules/generated/sklearn.feature_extraction.text.CountVectorizer.html). Словарь можно ограничить по частотности."
   ]
  },
  {
   "cell_type": "code",
   "execution_count": 22,
   "metadata": {},
   "outputs": [],
   "source": [
    "vectorizer = CountVectorizer(max_df = 0.5)"
   ]
  },
  {
   "cell_type": "code",
   "execution_count": 23,
   "metadata": {},
   "outputs": [],
   "source": [
    "data_mtx = vectorizer.fit_transform(data)"
   ]
  },
  {
   "cell_type": "code",
   "execution_count": 24,
   "metadata": {},
   "outputs": [
    {
     "data": {
      "text/plain": [
       "<11314x101622 sparse matrix of type '<class 'numpy.int64'>'\n",
       "\twith 1036541 stored elements in Compressed Sparse Row format>"
      ]
     },
     "execution_count": 24,
     "metadata": {},
     "output_type": "execute_result"
    }
   ],
   "source": [
    "data_mtx"
   ]
  },
  {
   "cell_type": "markdown",
   "metadata": {},
   "source": [
    "*Так мы получили векторное представление наших текстов. Значит можно приступать к задаче обучения модели*"
   ]
  },
  {
   "cell_type": "markdown",
   "metadata": {},
   "source": [
    "Реализуйте разбиение выборки для кросс-валидации на 3 фолдах. Разрешено использовать sklearn.cross_validation"
   ]
  },
  {
   "cell_type": "code",
   "execution_count": 25,
   "metadata": {},
   "outputs": [
    {
     "name": "stdout",
     "output_type": "stream",
     "text": [
      "TRAIN: [ 3772  3773  3774 ... 11311 11312 11313] TEST: [   0    1    2 ... 3769 3770 3771]\n",
      "TRAIN: [    0     1     2 ... 11311 11312 11313] TEST: [3772 3773 3774 ... 7540 7541 7542]\n",
      "TRAIN: [   0    1    2 ... 7540 7541 7542] TEST: [ 7543  7544  7545 ... 11311 11312 11313]\n"
     ]
    }
   ],
   "source": [
    "kf = KFold(n_splits=3)\n",
    "for train_index, test_index in kf.split(data_mtx):\n",
    "    print(\"TRAIN:\", train_index, \"TEST:\", test_index)\n",
    "    X_train, X_test = data_mtx[train_index], data_mtx[test_index]"
   ]
  },
  {
   "cell_type": "markdown",
   "metadata": {},
   "source": [
    "Напишите метод, позволяющий найти оптимальное количество ближайших соседей(дающее максимальную точность в среднем на валидации на 3 фолдах).\n",
    "Постройте график зависимости средней точности от количества соседей. Можно рассмотреть число соседей от 1 до 10."
   ]
  },
  {
   "cell_type": "code",
   "execution_count": 26,
   "metadata": {},
   "outputs": [],
   "source": [
    "def model_parameters(x_train, x_target, metric = 'euclidean'):\n",
    "    kf = KFold(n_splits=3)\n",
    "    k_scores = {}\n",
    "    for k in range(1, 11):\n",
    "        my_clf = MyKNeighborsClassifier(n_neighbors=k, algorithm='brute', metric = metric)\n",
    "        ac_score = []\n",
    "        for train_index, test_index in kf.split(x_train):\n",
    "            X_train, X_test = x_train[train_index], x_train[test_index]\n",
    "            my_clf.fit(X_train, x_target[train_index])\n",
    "            my_clf_pred = my_clf.predict(X_test)\n",
    "            score = accuracy_score(x_target[test_index], my_clf_pred)\n",
    "            ac_score.append(score)\n",
    "        k_scores[k] = np.mean(np.asarray(ac_score))\n",
    "    return k_scores\n",
    "    "
   ]
  },
  {
   "cell_type": "code",
   "execution_count": 27,
   "metadata": {},
   "outputs": [],
   "source": [
    "k_score = model_parameters(data_mtx, target)\n",
    "models = pd.DataFrame(data = k_score, index = [0])\n",
    "models['model'] = 'CountVectorizer(max_df = 0.5), metric = euclidean'"
   ]
  },
  {
   "cell_type": "code",
   "execution_count": 28,
   "metadata": {},
   "outputs": [
    {
     "data": {
      "text/plain": [
       "<matplotlib.axes._subplots.AxesSubplot at 0x12237c8bf08>"
      ]
     },
     "execution_count": 28,
     "metadata": {},
     "output_type": "execute_result"
    },
    {
     "data": {
      "image/png": "[encoded data removed]",
      "text/plain": [
       "<Figure size 432x288 with 1 Axes>"
      ]
     },
     "metadata": {
      "needs_background": "light"
     },
     "output_type": "display_data"
    }
   ],
   "source": [
    "sns.scatterplot(x = models.columns[:10], y = models.values[0][:10])"
   ]
  },
  {
   "cell_type": "markdown",
   "metadata": {},
   "source": [
    "Как изменится качество на валидации, если:\n",
    "\n",
    "1. Используется косинусная метрика вместо евклидовой.\n",
    "2. К текстам применяется TfIdf векторизацию( sklearn.feature_extraction.text.TfidfVectorizer)\n",
    "\n",
    "Сравните модели, выберите лучшую."
   ]
  },
  {
   "cell_type": "code",
   "execution_count": 29,
   "metadata": {},
   "outputs": [],
   "source": [
    "def model_chooser(vectorizer_type, max_df, train_data, target_data, metric):\n",
    "    if vectorizer_type == 'tfidf':\n",
    "        vectorizer = TfidfVectorizer(max_df = max_df)\n",
    "    else:\n",
    "        vectorizer = CountVectorizer(max_df = max_df)\n",
    "    mtx = vectorizer.fit_transform(train_data)\n",
    "    k_score = model_parameters(mtx, target_data, metric = metric)\n",
    "    df = pd.DataFrame(data = k_score, index = [0])\n",
    "    df['model'] = 'vectorizer = ' + vectorizer_type + '; max_df = ' + str(max_df) + '; metric = ' + metric\n",
    "    return df"
   ]
  },
  {
   "cell_type": "code",
   "execution_count": 30,
   "metadata": {},
   "outputs": [],
   "source": [
    "k_score_df = model_chooser(vectorizer_type = 'count', max_df = 0.5, train_data = data, target_data = target, metric = 'cosine')\n",
    "models = models.append(k_score_df, ignore_index = True)"
   ]
  },
  {
   "cell_type": "code",
   "execution_count": 31,
   "metadata": {},
   "outputs": [],
   "source": [
    "k_score_df = model_chooser(vectorizer_type = 'tfidf', max_df = 0.5, train_data = data, target_data = target, metric = 'euclidean')\n",
    "models = models.append(k_score_df, ignore_index = True)"
   ]
  },
  {
   "cell_type": "code",
   "execution_count": 32,
   "metadata": {},
   "outputs": [],
   "source": [
    "k_score_df = model_chooser(vectorizer_type = 'tfidf', max_df = 0.5, train_data = data, target_data = target, metric = 'cosine')\n",
    "models = models.append(k_score_df, ignore_index = True)"
   ]
  },
  {
   "cell_type": "code",
   "execution_count": 33,
   "metadata": {},
   "outputs": [],
   "source": [
    "k_score_df = model_chooser(vectorizer_type = 'tfidf', max_df = 0.6, train_data = data, target_data = target, metric = 'cosine')\n",
    "models = models.append(k_score_df, ignore_index = True)"
   ]
  },
  {
   "cell_type": "code",
   "execution_count": 34,
   "metadata": {},
   "outputs": [],
   "source": [
    "k_score_df = model_chooser(vectorizer_type = 'tfidf', max_df = 0.4, train_data = data, target_data = target, metric = 'cosine')\n",
    "models = models.append(k_score_df, ignore_index = True)"
   ]
  },
  {
   "cell_type": "code",
   "execution_count": 35,
   "metadata": {},
   "outputs": [
    {
     "data": {
      "text/html": [
       "<div>\n",
       "<style scoped>\n",
       "    .dataframe tbody tr th:only-of-type {\n",
       "        vertical-align: middle;\n",
       "    }\n",
       "\n",
       "    .dataframe tbody tr th {\n",
       "        vertical-align: top;\n",
       "    }\n",
       "\n",
       "    .dataframe thead th {\n",
       "        text-align: right;\n",
       "    }\n",
       "</style>\n",
       "<table border=\"1\" class=\"dataframe\">\n",
       "  <thead>\n",
       "    <tr style=\"text-align: right;\">\n",
       "      <th></th>\n",
       "      <th>1</th>\n",
       "      <th>2</th>\n",
       "      <th>3</th>\n",
       "      <th>4</th>\n",
       "      <th>5</th>\n",
       "      <th>6</th>\n",
       "      <th>7</th>\n",
       "      <th>8</th>\n",
       "      <th>9</th>\n",
       "      <th>10</th>\n",
       "      <th>model</th>\n",
       "    </tr>\n",
       "  </thead>\n",
       "  <tbody>\n",
       "    <tr>\n",
       "      <td>0</td>\n",
       "      <td>0.224678</td>\n",
       "      <td>0.184726</td>\n",
       "      <td>0.178362</td>\n",
       "      <td>0.183312</td>\n",
       "      <td>0.186317</td>\n",
       "      <td>0.183931</td>\n",
       "      <td>0.185787</td>\n",
       "      <td>0.186847</td>\n",
       "      <td>0.184196</td>\n",
       "      <td>0.185257</td>\n",
       "      <td>CountVectorizer(max_df = 0.5), metric = euclidean</td>\n",
       "    </tr>\n",
       "    <tr>\n",
       "      <td>1</td>\n",
       "      <td>0.390489</td>\n",
       "      <td>0.358317</td>\n",
       "      <td>0.361411</td>\n",
       "      <td>0.362117</td>\n",
       "      <td>0.361410</td>\n",
       "      <td>0.365918</td>\n",
       "      <td>0.369100</td>\n",
       "      <td>0.369806</td>\n",
       "      <td>0.371663</td>\n",
       "      <td>0.374756</td>\n",
       "      <td>vectorizer = count; max_df = 0.5; metric = cosine</td>\n",
       "    </tr>\n",
       "    <tr>\n",
       "      <td>2</td>\n",
       "      <td>0.135054</td>\n",
       "      <td>0.082111</td>\n",
       "      <td>0.074421</td>\n",
       "      <td>0.086176</td>\n",
       "      <td>0.083171</td>\n",
       "      <td>0.083259</td>\n",
       "      <td>0.081668</td>\n",
       "      <td>0.078575</td>\n",
       "      <td>0.077957</td>\n",
       "      <td>0.075924</td>\n",
       "      <td>vectorizer = tfidf; max_df = 0.5; metric = euc...</td>\n",
       "    </tr>\n",
       "    <tr>\n",
       "      <td>3</td>\n",
       "      <td>0.622857</td>\n",
       "      <td>0.584850</td>\n",
       "      <td>0.605003</td>\n",
       "      <td>0.614284</td>\n",
       "      <td>0.624625</td>\n",
       "      <td>0.625862</td>\n",
       "      <td>0.629397</td>\n",
       "      <td>0.632491</td>\n",
       "      <td>0.633463</td>\n",
       "      <td>0.633463</td>\n",
       "      <td>vectorizer = tfidf; max_df = 0.5; metric = cosine</td>\n",
       "    </tr>\n",
       "    <tr>\n",
       "      <td>4</td>\n",
       "      <td>0.621797</td>\n",
       "      <td>0.583524</td>\n",
       "      <td>0.601025</td>\n",
       "      <td>0.608715</td>\n",
       "      <td>0.613930</td>\n",
       "      <td>0.620294</td>\n",
       "      <td>0.623475</td>\n",
       "      <td>0.624359</td>\n",
       "      <td>0.626481</td>\n",
       "      <td>0.625332</td>\n",
       "      <td>vectorizer = tfidf; max_df = 0.6; metric = cosine</td>\n",
       "    </tr>\n",
       "    <tr>\n",
       "      <td>5</td>\n",
       "      <td>0.625155</td>\n",
       "      <td>0.586176</td>\n",
       "      <td>0.610483</td>\n",
       "      <td>0.622857</td>\n",
       "      <td>0.630989</td>\n",
       "      <td>0.633022</td>\n",
       "      <td>0.637175</td>\n",
       "      <td>0.637441</td>\n",
       "      <td>0.637970</td>\n",
       "      <td>0.638589</td>\n",
       "      <td>vectorizer = tfidf; max_df = 0.4; metric = cosine</td>\n",
       "    </tr>\n",
       "  </tbody>\n",
       "</table>\n",
       "</div>"
      ],
      "text/plain": [
       "          1         2         3         4         5         6         7  \\\n",
       "0  0.224678  0.184726  0.178362  0.183312  0.186317  0.183931  0.185787   \n",
       "1  0.390489  0.358317  0.361411  0.362117  0.361410  0.365918  0.369100   \n",
       "2  0.135054  0.082111  0.074421  0.086176  0.083171  0.083259  0.081668   \n",
       "3  0.622857  0.584850  0.605003  0.614284  0.624625  0.625862  0.629397   \n",
       "4  0.621797  0.583524  0.601025  0.608715  0.613930  0.620294  0.623475   \n",
       "5  0.625155  0.586176  0.610483  0.622857  0.630989  0.633022  0.637175   \n",
       "\n",
       "          8         9        10  \\\n",
       "0  0.186847  0.184196  0.185257   \n",
       "1  0.369806  0.371663  0.374756   \n",
       "2  0.078575  0.077957  0.075924   \n",
       "3  0.632491  0.633463  0.633463   \n",
       "4  0.624359  0.626481  0.625332   \n",
       "5  0.637441  0.637970  0.638589   \n",
       "\n",
       "                                               model  \n",
       "0  CountVectorizer(max_df = 0.5), metric = euclidean  \n",
       "1  vectorizer = count; max_df = 0.5; metric = cosine  \n",
       "2  vectorizer = tfidf; max_df = 0.5; metric = euc...  \n",
       "3  vectorizer = tfidf; max_df = 0.5; metric = cosine  \n",
       "4  vectorizer = tfidf; max_df = 0.6; metric = cosine  \n",
       "5  vectorizer = tfidf; max_df = 0.4; metric = cosine  "
      ]
     },
     "execution_count": 35,
     "metadata": {},
     "output_type": "execute_result"
    }
   ],
   "source": [
    "models"
   ]
  },
  {
   "cell_type": "code",
   "execution_count": 36,
   "metadata": {},
   "outputs": [],
   "source": [
    "#лучшая модель TfidfVectorizer(max_df = 0.4), metric = cosine, k = 10, натренируем её на всей обучающей выборке\n",
    "vectorizer = TfidfVectorizer(max_df = 0.4)\n",
    "data_mtx = vectorizer.fit_transform(data)"
   ]
  },
  {
   "cell_type": "code",
   "execution_count": 37,
   "metadata": {},
   "outputs": [],
   "source": [
    "my_clf = MyKNeighborsClassifier(n_neighbors=10, algorithm='brute', metric = 'cosine')\n",
    "my_clf.fit(data_mtx, target)"
   ]
  },
  {
   "cell_type": "markdown",
   "metadata": {},
   "source": [
    "Загрузим  теперь test  часть нашей выборки и преобразуем её аналогично с train частью. Не забудьте, что наборы слов в train и test части могут отличаться."
   ]
  },
  {
   "cell_type": "code",
   "execution_count": 38,
   "metadata": {},
   "outputs": [],
   "source": [
    "newsgroups_test = fetch_20newsgroups(subset='test',remove=['headers','footers', 'quotes'])"
   ]
  },
  {
   "cell_type": "markdown",
   "metadata": {},
   "source": [
    "Оценим точность вашей лучшей модели на test части датасета. Отличается ли оно от кросс-валидации? Попробуйте сделать выводы, почему отличается качество."
   ]
  },
  {
   "cell_type": "code",
   "execution_count": 39,
   "metadata": {},
   "outputs": [],
   "source": [
    "data_test = newsgroups_test['data']\n",
    "target_test = newsgroups_test['target']"
   ]
  },
  {
   "cell_type": "code",
   "execution_count": 40,
   "metadata": {},
   "outputs": [],
   "source": [
    "voc = vectorizer.vocabulary_"
   ]
  },
  {
   "cell_type": "code",
   "execution_count": 41,
   "metadata": {},
   "outputs": [],
   "source": [
    "vectorizer_test = TfidfVectorizer(max_df = 0.4, vocabulary = voc)"
   ]
  },
  {
   "cell_type": "code",
   "execution_count": 42,
   "metadata": {},
   "outputs": [],
   "source": [
    "data_mtx_test = vectorizer_test.fit_transform(data_test)"
   ]
  },
  {
   "cell_type": "code",
   "execution_count": 43,
   "metadata": {},
   "outputs": [],
   "source": [
    "my_clf_pred = my_clf.predict(data_mtx_test)\n",
    "score = accuracy_score(target_test, my_clf_pred)"
   ]
  },
  {
   "cell_type": "code",
   "execution_count": 44,
   "metadata": {},
   "outputs": [
    {
     "data": {
      "text/plain": [
       "0.5743494423791822"
      ]
     },
     "execution_count": 44,
     "metadata": {},
     "output_type": "execute_result"
    }
   ],
   "source": [
    "score"
   ]
  },
  {
   "cell_type": "code",
   "execution_count": 45,
   "metadata": {},
   "outputs": [
    {
     "data": {
      "text/plain": [
       "'\\n\\nКачество меньше, чем на кросс-валидации, потому что в тестовой выборке есть слова, которых не было в обучающей.\\nМы теряем часть информации за счёт того, что пользуемся словарём, полученным на обучающей выборке. \\n\\n'"
      ]
     },
     "execution_count": 45,
     "metadata": {},
     "output_type": "execute_result"
    }
   ],
   "source": [
    "\"\"\"\n",
    "\n",
    "Качество меньше, чем на кросс-валидации, потому что в тестовой выборке есть слова, которых не было в обучающей.\n",
    "Мы теряем часть информации за счёт того, что пользуемся словарём, полученным на обучающей выборке. \n",
    "\n",
    "\"\"\""
   ]
  }
 ],
 "metadata": {
  "kernelspec": {
   "display_name": "Python 3",
   "language": "python",
   "name": "python3"
  },
  "language_info": {
   "codemirror_mode": {
    "name": "ipython",
    "version": 3
   },
   "file_extension": ".py",
   "mimetype": "text/x-python",
   "name": "python",
   "nbconvert_exporter": "python",
   "pygments_lexer": "ipython3",
   "version": "3.7.4"
  }
 },
 "nbformat": 4,
 "nbformat_minor": 2
}
